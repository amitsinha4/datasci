{
 "cells": [
  {
   "cell_type": "markdown",
   "id": "a567336a",
   "metadata": {},
   "source": [
    "## Learning Numpy"
   ]
  },
  {
   "cell_type": "code",
   "execution_count": 1,
   "id": "a002c7a0",
   "metadata": {},
   "outputs": [],
   "source": [
    "# Importing numpy\n",
    "import numpy as np"
   ]
  },
  {
   "cell_type": "code",
   "execution_count": 2,
   "id": "b8cd2efa",
   "metadata": {},
   "outputs": [
    {
     "name": "stdout",
     "output_type": "stream",
     "text": [
      "[[ 0  1  2  3  4]\n",
      " [ 5  6  7  8  9]\n",
      " [10 11 12 13 14]]\n"
     ]
    }
   ],
   "source": [
    "ar = np.arange(15).reshape(3,5)\n",
    "print(ar)"
   ]
  },
  {
   "cell_type": "code",
   "execution_count": 3,
   "id": "36b5955a",
   "metadata": {},
   "outputs": [
    {
     "data": {
      "text/plain": [
       "(3, 5)"
      ]
     },
     "execution_count": 3,
     "metadata": {},
     "output_type": "execute_result"
    }
   ],
   "source": [
    "# Shape of ndarray\n",
    "ar.shape"
   ]
  },
  {
   "cell_type": "code",
   "execution_count": 4,
   "id": "8d1d526b",
   "metadata": {},
   "outputs": [
    {
     "data": {
      "text/plain": [
       "2"
      ]
     },
     "execution_count": 4,
     "metadata": {},
     "output_type": "execute_result"
    }
   ],
   "source": [
    "# No of axis\n",
    "ar.ndim"
   ]
  },
  {
   "cell_type": "code",
   "execution_count": 5,
   "id": "a29b88c2",
   "metadata": {},
   "outputs": [
    {
     "data": {
      "text/plain": [
       "'int64'"
      ]
     },
     "execution_count": 5,
     "metadata": {},
     "output_type": "execute_result"
    }
   ],
   "source": [
    "# Type of data\n",
    "ar.dtype.name"
   ]
  },
  {
   "cell_type": "code",
   "execution_count": 6,
   "id": "e40c16cd",
   "metadata": {},
   "outputs": [
    {
     "data": {
      "text/plain": [
       "8"
      ]
     },
     "execution_count": 6,
     "metadata": {},
     "output_type": "execute_result"
    }
   ],
   "source": [
    "# Item size of element of array\n",
    "ar.itemsize"
   ]
  },
  {
   "cell_type": "code",
   "execution_count": 7,
   "id": "50cb0f8e",
   "metadata": {},
   "outputs": [
    {
     "data": {
      "text/plain": [
       "15"
      ]
     },
     "execution_count": 7,
     "metadata": {},
     "output_type": "execute_result"
    }
   ],
   "source": [
    "# Size of array (No of array)\n",
    "ar.size"
   ]
  },
  {
   "cell_type": "code",
   "execution_count": 8,
   "id": "6c2bed89",
   "metadata": {},
   "outputs": [
    {
     "data": {
      "text/plain": [
       "numpy.ndarray"
      ]
     },
     "execution_count": 8,
     "metadata": {},
     "output_type": "execute_result"
    }
   ],
   "source": [
    "# Type of ndarray\n",
    "type(ar)"
   ]
  },
  {
   "cell_type": "code",
   "execution_count": 9,
   "id": "6c3dff16",
   "metadata": {},
   "outputs": [
    {
     "name": "stdout",
     "output_type": "stream",
     "text": [
      "[6 7 8]\n"
     ]
    },
    {
     "data": {
      "text/plain": [
       "numpy.ndarray"
      ]
     },
     "execution_count": 9,
     "metadata": {},
     "output_type": "execute_result"
    }
   ],
   "source": [
    "# Creating numpy array\n",
    "new_arr = np.array([6,7,8])\n",
    "print(new_arr)\n",
    "type(new_arr)"
   ]
  },
  {
   "cell_type": "markdown",
   "id": "abc5689e",
   "metadata": {},
   "source": [
    "### No of ways to create a numpy array"
   ]
  },
  {
   "cell_type": "code",
   "execution_count": 10,
   "id": "3b444908",
   "metadata": {},
   "outputs": [
    {
     "name": "stdout",
     "output_type": "stream",
     "text": [
      "int64\n",
      "float64\n"
     ]
    }
   ],
   "source": [
    "a = np.array([1,2,3]) # 1d array (putting list in np.array() method)\n",
    "print(a.dtype)\n",
    "b = np.array([1.2, 2.3, 3.4])\n",
    "print(b.dtype)"
   ]
  },
  {
   "cell_type": "code",
   "execution_count": 11,
   "id": "2bae78be",
   "metadata": {},
   "outputs": [
    {
     "name": "stdout",
     "output_type": "stream",
     "text": [
      "[[1.  2.  3. ]\n",
      " [4.5 5.6 6.7]]\n",
      "float64\n"
     ]
    }
   ],
   "source": [
    "# Missing type of data\n",
    "c = np.array([(1,2,3), (4.5, 5.6, 6.7)])\n",
    "print(c)\n",
    "print(c.dtype)"
   ]
  },
  {
   "cell_type": "code",
   "execution_count": 12,
   "id": "a0a55367",
   "metadata": {},
   "outputs": [
    {
     "name": "stdout",
     "output_type": "stream",
     "text": [
      "[[1.+0.j 2.+0.j]\n",
      " [3.+0.j 4.+0.j]]\n",
      "complex128\n"
     ]
    }
   ],
   "source": [
    "# Complex Number ndarray\n",
    "d = np.array([[1,2], [3,4]], dtype=complex)\n",
    "print(d)\n",
    "print(d.dtype)"
   ]
  },
  {
   "cell_type": "code",
   "execution_count": 13,
   "id": "6e3d796a",
   "metadata": {},
   "outputs": [
    {
     "name": "stdout",
     "output_type": "stream",
     "text": [
      "Matrix of Zero's \n",
      " [[0. 0. 0. 0.]\n",
      " [0. 0. 0. 0.]\n",
      " [0. 0. 0. 0.]]\n",
      "Matrix of One's \n",
      " [[[1 1 1 1]\n",
      "  [1 1 1 1]\n",
      "  [1 1 1 1]]\n",
      "\n",
      " [[1 1 1 1]\n",
      "  [1 1 1 1]\n",
      "  [1 1 1 1]]]\n",
      "Matix of Empty(float type) \n",
      "[[1.  2.  3. ]\n",
      " [4.5 5.6 6.7]]\n"
     ]
    }
   ],
   "source": [
    "\"\"\"\n",
    "Creating array with zero's and one's\n",
    "Use as an placeholder if size and shape is known, because expansion of array is an expensive operation\n",
    "\"\"\"\n",
    "e = np.zeros((3,4))\n",
    "f = np.ones((2,3,4), dtype=np.int16)\n",
    "g = np.empty((2,3)) # by default float type random data\n",
    "print(f\"Matrix of Zero's \\n {e}\")\n",
    "print(f\"Matrix of One's \\n {f}\")\n",
    "print(f\"Matix of Empty(float type) \\n{g}\")"
   ]
  },
  {
   "cell_type": "markdown",
   "id": "d344007c",
   "metadata": {},
   "source": [
    "### Creating sequence using NumPy (1d array)"
   ]
  },
  {
   "cell_type": "code",
   "execution_count": 14,
   "id": "b498fa94",
   "metadata": {},
   "outputs": [
    {
     "name": "stdout",
     "output_type": "stream",
     "text": [
      "[1 3 5 7 9]\n",
      "<class 'numpy.ndarray'>\n"
     ]
    }
   ],
   "source": [
    "# Using arange function to create sequence\n",
    "sq = np.arange(1, 10, 2)\n",
    "print(sq)\n",
    "print(type(sq)) # still ndarray"
   ]
  },
  {
   "cell_type": "code",
   "execution_count": 15,
   "id": "5bca8542",
   "metadata": {},
   "outputs": [
    {
     "name": "stdout",
     "output_type": "stream",
     "text": [
      "[0.  0.3 0.6 0.9 1.2 1.5 1.8]\n"
     ]
    }
   ],
   "source": [
    "sq1 = np.arange(0,2,0.3)\n",
    "print(sq1) # New sequenec"
   ]
  },
  {
   "cell_type": "code",
   "execution_count": 38,
   "id": "ae61f04a",
   "metadata": {},
   "outputs": [],
   "source": [
    "### Linespace will determine the step just provide the range and no of element required\n",
    "from numpy import pi\n",
    "# sq2 = np.linspace(0, 9, 10)\n",
    "# print(sq2)\n",
    "\n",
    "sq3 = np.linspace(0, 2*pi, 100)\n",
    "sin_values = np.sin(sq3) # Many values evaluates the concept of it !!"
   ]
  },
  {
   "cell_type": "markdown",
   "id": "c72ce058",
   "metadata": {},
   "source": [
    "### Printing Arrays"
   ]
  },
  {
   "cell_type": "code",
   "execution_count": 39,
   "id": "26e41a22",
   "metadata": {},
   "outputs": [
    {
     "name": "stdout",
     "output_type": "stream",
     "text": [
      "[   0    1    2 ... 9997 9998 9999]\n"
     ]
    }
   ],
   "source": [
    "print(np.arange(0,10000))"
   ]
  },
  {
   "cell_type": "code",
   "execution_count": 40,
   "id": "9b2e1321",
   "metadata": {},
   "outputs": [
    {
     "name": "stdout",
     "output_type": "stream",
     "text": [
      "[[   0    1    2 ...   97   98   99]\n",
      " [ 100  101  102 ...  197  198  199]\n",
      " [ 200  201  202 ...  297  298  299]\n",
      " ...\n",
      " [9700 9701 9702 ... 9797 9798 9799]\n",
      " [9800 9801 9802 ... 9897 9898 9899]\n",
      " [9900 9901 9902 ... 9997 9998 9999]]\n"
     ]
    }
   ],
   "source": [
    "print(np.arange(0,10000).reshape(100, 100))"
   ]
  }
 ],
 "metadata": {
  "kernelspec": {
   "display_name": "Python 3 (ipykernel)",
   "language": "python",
   "name": "python3"
  },
  "language_info": {
   "codemirror_mode": {
    "name": "ipython",
    "version": 3
   },
   "file_extension": ".py",
   "mimetype": "text/x-python",
   "name": "python",
   "nbconvert_exporter": "python",
   "pygments_lexer": "ipython3",
   "version": "3.9.12"
  }
 },
 "nbformat": 4,
 "nbformat_minor": 5
}
