{
 "cells": [
  {
   "cell_type": "markdown",
   "id": "f4f94679",
   "metadata": {},
   "source": [
    "## Basic NumPy Operations"
   ]
  },
  {
   "cell_type": "code",
   "execution_count": 4,
   "id": "7b451ac5",
   "metadata": {},
   "outputs": [],
   "source": [
    "# importing numpy\n",
    "import numpy as np"
   ]
  },
  {
   "cell_type": "code",
   "execution_count": 16,
   "id": "79440781",
   "metadata": {},
   "outputs": [
    {
     "name": "stdout",
     "output_type": "stream",
     "text": [
      "[20 30 40 50] - [0 1 2 3] = [20 29 38 47]\n",
      "[0 1 2 3] * 3 = [0 3 6 9]\n",
      "sin value of [20 30 40 50] = [ 0.91294525 -0.98803162  0.74511316 -0.26237485]\n",
      "[ 9.12945251 -9.88031624  7.4511316  -2.62374854]\n"
     ]
    }
   ],
   "source": [
    "# Operation of NumPy\n",
    "a = np.array([20, 30, 40, 50])\n",
    "b = np.arange(4)\n",
    "\n",
    "# Difference (is actually a differnce between each respective element)\n",
    "c = a - b\n",
    "print(f\"{a} - {b} = {c}\")\n",
    "\n",
    "# Multiplication of ndarry with a number\n",
    "print(f\"{b} * 3 = {b * 3}\")\n",
    "\n",
    "# More operation\n",
    "print(f\"sin value of {a} = {np.sin(a)}\")\n",
    "\n",
    "# Multiplying 10 with sin value\n",
    "print(10 * np.sin(a))"
   ]
  },
  {
   "cell_type": "code",
   "execution_count": 18,
   "id": "d4b13810",
   "metadata": {},
   "outputs": [
    {
     "name": "stdout",
     "output_type": "stream",
     "text": [
      "[20 30 40 50] < 35: [ True  True False False]\n"
     ]
    }
   ],
   "source": [
    "# Comparision operator\n",
    "print(f\"{a} < 35: {a<35}\")"
   ]
  },
  {
   "cell_type": "code",
   "execution_count": 34,
   "id": "a7217c70",
   "metadata": {},
   "outputs": [
    {
     "name": "stdout",
     "output_type": "stream",
     "text": [
      "Product\n",
      " [[2 0]\n",
      " [0 4]]\n",
      "Matrix product \n",
      " [[5 4]\n",
      " [3 4]]\n",
      "Matrix product \n",
      " [[2 2]\n",
      " [3 7]]\n",
      "Dot product \n",
      " [[5 4]\n",
      " [3 4]]\n",
      "Dot procut \n",
      " [[2 2]\n",
      " [3 7]]\n"
     ]
    }
   ],
   "source": [
    "# Two array (A, B)\n",
    "A = np.array([[1,1], [0,1]])\n",
    "B = np.array([[2,0], [3,4]])\n",
    "\n",
    "# Product of A*B\n",
    "print(f\"Product\\n {A*B}\")\n",
    "\n",
    "# Matrix Product\n",
    "print(f\"Matrix product \\n {A @ B}\")\n",
    "print(f\"Matrix product \\n {B @ A}\")\n",
    "\n",
    "# Dot product is same as Matrix Product\n",
    "print(f\"Dot product \\n {A.dot(B)}\")\n",
    "print(f\"Dot procut \\n {B.dot(A)}\")\n",
    "\n"
   ]
  },
  {
   "cell_type": "code",
   "execution_count": null,
   "id": "8868ba4a",
   "metadata": {},
   "outputs": [],
   "source": []
  }
 ],
 "metadata": {
  "kernelspec": {
   "display_name": "Python 3 (ipykernel)",
   "language": "python",
   "name": "python3"
  },
  "language_info": {
   "codemirror_mode": {
    "name": "ipython",
    "version": 3
   },
   "file_extension": ".py",
   "mimetype": "text/x-python",
   "name": "python",
   "nbconvert_exporter": "python",
   "pygments_lexer": "ipython3",
   "version": "3.9.12"
  }
 },
 "nbformat": 4,
 "nbformat_minor": 5
}
